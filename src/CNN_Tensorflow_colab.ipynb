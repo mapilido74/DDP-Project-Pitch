{
  "nbformat": 4,
  "nbformat_minor": 0,
  "metadata": {
    "kernelspec": {
      "display_name": "Python 3",
      "language": "python",
      "name": "python3"
    },
    "language_info": {
      "codemirror_mode": {
        "name": "ipython",
        "version": 3
      },
      "file_extension": ".py",
      "mimetype": "text/x-python",
      "name": "python",
      "nbconvert_exporter": "python",
      "pygments_lexer": "ipython3",
      "version": "3.6.4"
    },
    "colab": {
      "name": "CNN_Tensorflow.ipynb",
      "provenance": []
    }
  },
  "cells": [
    {
      "cell_type": "markdown",
      "metadata": {
        "id": "U9lxS74Y-axU"
      },
      "source": [
        "# CNN (Convolutional Neural Network)\n",
        "We will implement very basic CNN with MNIST dataset."
      ]
    },
    {
      "cell_type": "markdown",
      "metadata": {
        "id": "V-WV9PimBg00"
      },
      "source": [
        "[![Open In Colab](https://colab.research.google.com/assets/colab-badge.svg)](https://colab.research.google.com/github/minsuk-heo/deeplearning/blob/master/src/CNN_Tensorflow.ipynb)"
      ]
    },
    {
      "cell_type": "code",
      "metadata": {
        "id": "MZ0DipMD-axW"
      },
      "source": [
        "from IPython.display import Image"
      ],
      "execution_count": 148,
      "outputs": []
    },
    {
      "cell_type": "code",
      "metadata": {
        "id": "wx9at6ZQ_RCe"
      },
      "source": [
        ""
      ],
      "execution_count": 148,
      "outputs": []
    },
    {
      "cell_type": "markdown",
      "metadata": {
        "id": "R_7GbEOs-axX"
      },
      "source": [
        "## Why CNN for image recognition?\n",
        "Think about you use MLP (multi layer perceptron) for image recognition.  \n",
        "You can recall how MLP works from below picture.  \n",
        "MLP changes image shape from 2d(matrix) to 1d(array) and fully connect all nodes to get prediction.  \n",
        "Take a moment to see difference between two different inputs in which both target numbers are equally '2'"
      ]
    },
    {
      "cell_type": "code",
      "metadata": {
        "id": "vScpV3Fk-axX",
        "outputId": "1ae55464-ab35-4f69-b253-54effd731c4f",
        "colab": {
          "base_uri": "https://localhost:8080/",
          "height": 270
        }
      },
      "source": [
        "Image(url= \"https://raw.githubusercontent.com/minsuk-heo/deeplearning/master/img/mlp_overview.png\", width=500, height=250)"
      ],
      "execution_count": 149,
      "outputs": [
        {
          "output_type": "execute_result",
          "data": {
            "text/html": [
              "<img src=\"https://raw.githubusercontent.com/minsuk-heo/deeplearning/master/img/mlp_overview.png\" width=\"500\" height=\"250\"/>"
            ],
            "text/plain": [
              "<IPython.core.display.Image object>"
            ]
          },
          "metadata": {
            "tags": []
          },
          "execution_count": 0
        }
      ]
    },
    {
      "cell_type": "code",
      "metadata": {
        "id": "NFrYuBPZ-axY",
        "outputId": "074da955-0b7e-4082-8e62-decd067142f1",
        "colab": {
          "base_uri": "https://localhost:8080/",
          "height": 270
        }
      },
      "source": [
        "Image(url= \"https://raw.githubusercontent.com/minsuk-heo/deeplearning/master/img/mlp_overview2.png\", width=500, height=250)"
      ],
      "execution_count": 150,
      "outputs": [
        {
          "output_type": "execute_result",
          "data": {
            "text/html": [
              "<img src=\"https://raw.githubusercontent.com/minsuk-heo/deeplearning/master/img/mlp_overview2.png\" width=\"500\" height=\"250\"/>"
            ],
            "text/plain": [
              "<IPython.core.display.Image object>"
            ]
          },
          "metadata": {
            "tags": []
          },
          "execution_count": 0
        }
      ]
    },
    {
      "cell_type": "markdown",
      "metadata": {
        "id": "oGY8YJW7-axY"
      },
      "source": [
        "Even though they have same target number('2'), as you can see the **input arrays are very different.**  \n",
        "Since MLP only knows input array, it is hard for MLP to learn these two numbers have same target.  \n",
        "As a solution for this, you can introduce more nodes in the MLP, but this solution easily results in high computation, longer train.\n",
        "\n",
        "MLP's issue:  \n",
        "1) when number is written in different pixels, input for MLP is totally different.    \n",
        "2) having many nodes results in high computation and longer train time."
      ]
    },
    {
      "cell_type": "markdown",
      "metadata": {
        "id": "TymjOSch-axZ"
      },
      "source": [
        "## How do you recognize a thing?\n",
        "In order to resolve MLP's issue, let's think how we actually recognize a number.  \n",
        "If you look at number '2', how do you know it is 2?  \n",
        "Your brain consciously or inconsciously recognize head and tail of number 2 and diagonal connector between head and tail, just like below pictures. "
      ]
    },
    {
      "cell_type": "code",
      "metadata": {
        "id": "IgD0ICH3-axZ",
        "outputId": "cad24f40-190f-4f56-8725-692504ba558c",
        "colab": {
          "base_uri": "https://localhost:8080/",
          "height": 270
        }
      },
      "source": [
        "Image(url= \"https://raw.githubusercontent.com/minsuk-heo/deeplearning/master/img/cnn_filter.png\", width=500, height=250)"
      ],
      "execution_count": 151,
      "outputs": [
        {
          "output_type": "execute_result",
          "data": {
            "text/html": [
              "<img src=\"https://raw.githubusercontent.com/minsuk-heo/deeplearning/master/img/cnn_filter.png\" width=\"500\" height=\"250\"/>"
            ],
            "text/plain": [
              "<IPython.core.display.Image object>"
            ]
          },
          "metadata": {
            "tags": []
          },
          "execution_count": 0
        }
      ]
    },
    {
      "cell_type": "markdown",
      "metadata": {
        "id": "xPwvcgQ3-axa"
      },
      "source": [
        "## CNN is recognizing a thing just like you!\n",
        "CNN recognize an object just like you. CNN is trained to capture features of object (in this case, head, tail, connector, edge) and recognize the number."
      ]
    },
    {
      "cell_type": "markdown",
      "metadata": {
        "id": "GbPokd68-axa"
      },
      "source": [
        "## How CNN identify features?\n",
        "In contrast to MLP, CNN uses 2 dimension information in order to capture local connectivity such as head, tail, connector.  \n",
        "\n",
        "here is how CNN finds features of object.\n",
        "\n"
      ]
    },
    {
      "cell_type": "code",
      "metadata": {
        "id": "jLAGrRHE-axa",
        "outputId": "69d29dfd-4f01-409f-b850-e1d6f72e11de",
        "colab": {
          "base_uri": "https://localhost:8080/",
          "height": 270
        }
      },
      "source": [
        "Image(url= \"https://raw.githubusercontent.com/minsuk-heo/deeplearning/master/img/stride.png\", width=500, height=250)"
      ],
      "execution_count": 152,
      "outputs": [
        {
          "output_type": "execute_result",
          "data": {
            "text/html": [
              "<img src=\"https://raw.githubusercontent.com/minsuk-heo/deeplearning/master/img/stride.png\" width=\"500\" height=\"250\"/>"
            ],
            "text/plain": [
              "<IPython.core.display.Image object>"
            ]
          },
          "metadata": {
            "tags": []
          },
          "execution_count": 0
        }
      ]
    },
    {
      "cell_type": "markdown",
      "metadata": {
        "id": "guHNvR-5-axb"
      },
      "source": [
        "### stride, filter, receptive field\n",
        "As you can see from above picture, CNN slides filter from the top left to the bottom right.  \n",
        "Sliding filter is called **stride**.    \n",
        "**Filter** is feature identifier, sometimes called **kernel**,  \n",
        "and we call the area where filter stays a **receptive field**.  \n",
        "the filter from above picture is to identify diagonal connected pixel.  \n",
        "\n",
        "From below picture, you can see the filter detects two diagonal connected pixels from left input (digit 2),  \n",
        "while there is no diagonal connected pixels frin right input (digit 1)."
      ]
    },
    {
      "cell_type": "code",
      "metadata": {
        "id": "E2eVkvJH-axb",
        "outputId": "bf530554-e27e-4690-88be-aac94481d008",
        "colab": {
          "base_uri": "https://localhost:8080/",
          "height": 270
        }
      },
      "source": [
        "Image(url= \"https://raw.githubusercontent.com/minsuk-heo/deeplearning/master/img/filter_diff.png\", width=500, height=250)"
      ],
      "execution_count": 153,
      "outputs": [
        {
          "output_type": "execute_result",
          "data": {
            "text/html": [
              "<img src=\"https://raw.githubusercontent.com/minsuk-heo/deeplearning/master/img/filter_diff.png\" width=\"500\" height=\"250\"/>"
            ],
            "text/plain": [
              "<IPython.core.display.Image object>"
            ]
          },
          "metadata": {
            "tags": []
          },
          "execution_count": 0
        }
      ]
    },
    {
      "cell_type": "markdown",
      "metadata": {
        "id": "XKYCxT_R-axb"
      },
      "source": [
        "As you know CNN is just mathmetical model, we haven't talk math behind intuitive example.  \n",
        "Suppose our image is gray scale image, the pixel will be represented number between 0 to 255.  \n",
        "0 means white color and 255 means black color just like below picture.  "
      ]
    },
    {
      "cell_type": "code",
      "metadata": {
        "id": "OK1TncuP-axc",
        "outputId": "919aad85-8c02-4513-8300-c8be8845e1fe",
        "colab": {
          "base_uri": "https://localhost:8080/",
          "height": 270
        }
      },
      "source": [
        "Image(url= \"https://raw.githubusercontent.com/minsuk-heo/deeplearning/master/img/elem_mul.png\", width=500, height=250)"
      ],
      "execution_count": 154,
      "outputs": [
        {
          "output_type": "execute_result",
          "data": {
            "text/html": [
              "<img src=\"https://raw.githubusercontent.com/minsuk-heo/deeplearning/master/img/elem_mul.png\" width=\"500\" height=\"250\"/>"
            ],
            "text/plain": [
              "<IPython.core.display.Image object>"
            ]
          },
          "metadata": {
            "tags": []
          },
          "execution_count": 0
        }
      ]
    },
    {
      "cell_type": "markdown",
      "metadata": {
        "id": "pSvRzNhp-axc"
      },
      "source": [
        "As you can see from above pictures, the filter detects feature by element-wise multiplication of filter and receptive field numbers.  \n",
        "Larger number means the area has more chance to have the feature,  \n",
        "Less number means the area has less chance to have the feature."
      ]
    },
    {
      "cell_type": "markdown",
      "metadata": {
        "id": "uMj7lL3h-axc"
      },
      "source": [
        "In order to detect your target, for example, here to detect number between 0 to 9,  \n",
        "you will need more filters such as straight line, vertical line, curve line.  \n",
        "your **first convolutional layer** will detect these essential features and  \n",
        "the **next convolutional layers** can detect more high level such as circle, triangle, rectangle based on the previous detected features.  \n",
        "After detecting all features, these features will be input to MLP (full connected layers) and end up with softmax to classify input to target value."
      ]
    },
    {
      "cell_type": "markdown",
      "metadata": {
        "id": "wEMcNhCl-axd"
      },
      "source": [
        "here is one of famous CNN architecture from Stanford CNN lecture slide."
      ]
    },
    {
      "cell_type": "code",
      "metadata": {
        "id": "o_wacEKJ-axd",
        "outputId": "196788f7-c728-463e-cf18-c0ee62215b3d",
        "colab": {
          "base_uri": "https://localhost:8080/",
          "height": 270
        }
      },
      "source": [
        "Image(url= \"https://raw.githubusercontent.com/minsuk-heo/deeplearning/master/img/cnn_architecture.png\", width=500, height=250)"
      ],
      "execution_count": 155,
      "outputs": [
        {
          "output_type": "execute_result",
          "data": {
            "text/html": [
              "<img src=\"https://raw.githubusercontent.com/minsuk-heo/deeplearning/master/img/cnn_architecture.png\" width=\"500\" height=\"250\"/>"
            ],
            "text/plain": [
              "<IPython.core.display.Image object>"
            ]
          },
          "metadata": {
            "tags": []
          },
          "execution_count": 0
        }
      ]
    },
    {
      "cell_type": "markdown",
      "metadata": {
        "id": "qrfYJh-0-axd"
      },
      "source": [
        "citation:\n",
        "source from http://cs231n.github.io/convolutional-networks/"
      ]
    },
    {
      "cell_type": "markdown",
      "metadata": {
        "id": "AD6z_lwX-axe"
      },
      "source": [
        "CONV stands for convolutioal layer which we have learned so far.  \n",
        "Also you can find FC which is fully connected layer for classifying input to given target.\n",
        "In this picture, you can see RELU as activation function of convolutional layer. we will also use RELU for our tensorflow practice in this jupyter notebook.  \n",
        "\n",
        "The only one term we haven't talk is POOL which is pooling layer."
      ]
    },
    {
      "cell_type": "markdown",
      "metadata": {
        "id": "LawvOpk1-axf"
      },
      "source": [
        "### pulling layer\n",
        "The main purpose of having pulling layer is to reduce parameters and computtations of CNN model.  \n",
        "Therefore, controlling overfitting.\n",
        "\n",
        "From our stride example of digit 2 (when stride is 1),  \n",
        "the output of stride of the diagonal filter (we call it **feature map**) is below,  \n",
        "FYI, Relu(feature map) is called a **actvation map**."
      ]
    },
    {
      "cell_type": "code",
      "metadata": {
        "id": "Q5ZMaTxD-axg",
        "outputId": "8b6452e8-109f-489d-f639-f2bdce1fd112",
        "colab": {
          "base_uri": "https://localhost:8080/",
          "height": 0
        }
      },
      "source": [
        "Image(url= \"https://raw.githubusercontent.com/minsuk-heo/deeplearning/master/img/stride_result.png\", width=500, height=250)"
      ],
      "execution_count": 156,
      "outputs": [
        {
          "output_type": "execute_result",
          "data": {
            "text/html": [
              "<img src=\"https://raw.githubusercontent.com/minsuk-heo/deeplearning/master/img/stride_result.png\" width=\"500\" height=\"250\"/>"
            ],
            "text/plain": [
              "<IPython.core.display.Image object>"
            ]
          },
          "metadata": {
            "tags": []
          },
          "execution_count": 0
        }
      ]
    },
    {
      "cell_type": "markdown",
      "metadata": {
        "id": "8wug0yPV-axg"
      },
      "source": [
        "When you apply pooling, you can use either **max pooling** or **average pooling**.  \n",
        "Here is an example of max pooling (2*2 filter and stride 2)."
      ]
    },
    {
      "cell_type": "code",
      "metadata": {
        "id": "V3I-0uqx-axh",
        "outputId": "054e99b1-523e-43ea-936d-4d7b23075a35",
        "colab": {
          "base_uri": "https://localhost:8080/",
          "height": 0
        }
      },
      "source": [
        "Image(url= \"https://raw.githubusercontent.com/minsuk-heo/deeplearning/master/img/max_pool.png\", width=500, height=250)"
      ],
      "execution_count": 157,
      "outputs": [
        {
          "output_type": "execute_result",
          "data": {
            "text/html": [
              "<img src=\"https://raw.githubusercontent.com/minsuk-heo/deeplearning/master/img/max_pool.png\" width=\"500\" height=\"250\"/>"
            ],
            "text/plain": [
              "<IPython.core.display.Image object>"
            ]
          },
          "metadata": {
            "tags": []
          },
          "execution_count": 0
        }
      ]
    },
    {
      "cell_type": "markdown",
      "metadata": {
        "id": "PW3ZRAOK-axh"
      },
      "source": [
        "As you can see, the output of convolutional layer decreased from (4 x 4) to (2 x 2).  \n",
        "Decreasing feature map results in reducing the number of parameters and computation time.  \n",
        "Also by reducing the number of parameters, it gives control of **overfitting**."
      ]
    },
    {
      "cell_type": "markdown",
      "metadata": {
        "id": "zZEMGKQP-axh"
      },
      "source": [
        "### zero padding\n",
        "Lastly, I should give you insights of zero padding while it is not shown at Stanford CNN architecture diagram.  \n",
        "Zero padding is mostly applied on recent CNN with mainly two reasons below,  \n",
        "1) reduce information loss from convolutional layer.   \n",
        "2) let the CNN knows where is the boundary of the input."
      ]
    },
    {
      "cell_type": "markdown",
      "metadata": {
        "id": "CqiWKMrb-axi"
      },
      "source": [
        "Let's revisit convolutional layer. As you can see from below image,  \n",
        "The output dimension (4 x 4) is less than input dimension (5 x 5). That said, we lose some info at each convonlutional layer."
      ]
    },
    {
      "cell_type": "code",
      "metadata": {
        "id": "WwUIjY66-axi",
        "outputId": "bc7bca1e-3755-4c05-bb2d-da6b246cdc26",
        "colab": {
          "base_uri": "https://localhost:8080/",
          "height": 0
        }
      },
      "source": [
        "Image(url= \"https://raw.githubusercontent.com/minsuk-heo/deeplearning/master/img/zeropadding1.png\", width=500, height=250)"
      ],
      "execution_count": 158,
      "outputs": [
        {
          "output_type": "execute_result",
          "data": {
            "text/html": [
              "<img src=\"https://raw.githubusercontent.com/minsuk-heo/deeplearning/master/img/zeropadding1.png\" width=\"500\" height=\"250\"/>"
            ],
            "text/plain": [
              "<IPython.core.display.Image object>"
            ]
          },
          "metadata": {
            "tags": []
          },
          "execution_count": 0
        }
      ]
    },
    {
      "cell_type": "markdown",
      "metadata": {
        "id": "9ri51ovu-axi"
      },
      "source": [
        "Take a look below picture. Zero Padding gives more space to stride.  \n",
        "If your filter size is (3 X 3) and stride 1 pixel at a time, the output dimension will be (5 x 5)  \n",
        "which is exactly same with original input."
      ]
    },
    {
      "cell_type": "code",
      "metadata": {
        "id": "5twrBOt8-axj",
        "outputId": "f6a5bcb2-b5be-426d-b385-177c73a4fec8",
        "colab": {
          "base_uri": "https://localhost:8080/",
          "height": 0
        }
      },
      "source": [
        "Image(url= \"https://raw.githubusercontent.com/minsuk-heo/deeplearning/master/img/zeropadding.png\", width=500, height=250)"
      ],
      "execution_count": 159,
      "outputs": [
        {
          "output_type": "execute_result",
          "data": {
            "text/html": [
              "<img src=\"https://raw.githubusercontent.com/minsuk-heo/deeplearning/master/img/zeropadding.png\" width=\"500\" height=\"250\"/>"
            ],
            "text/plain": [
              "<IPython.core.display.Image object>"
            ]
          },
          "metadata": {
            "tags": []
          },
          "execution_count": 0
        }
      ]
    },
    {
      "cell_type": "markdown",
      "metadata": {
        "id": "-t89hRWK-axj"
      },
      "source": [
        "### what if image is color image?"
      ]
    },
    {
      "cell_type": "markdown",
      "metadata": {
        "id": "qblU6UkJ-axj"
      },
      "source": [
        "In this Jupyter Notebook, I use MNIST which is gray scale image, however there are a lot more chance you will handle color image which is composed with RGB color. This is very easy problem if you think color image is just overlapped three layers.  \n",
        "if you have 10 gray scale image which is 28 * 28 pixel, your input tensor is (10,28,28,1). because you only have one color.  \n",
        "if you have 10 RGB color image which is 28 * 28 pixel, your input tensor is (10,28,28,3).  because you have three colors."
      ]
    },
    {
      "cell_type": "code",
      "metadata": {
        "id": "vhnQHcXS-axj",
        "outputId": "02d1a865-0144-476b-da64-c18555fa4909",
        "colab": {
          "base_uri": "https://localhost:8080/",
          "height": 0
        }
      },
      "source": [
        "Image(url= \"https://raw.githubusercontent.com/minsuk-heo/deeplearning/master/img/rgb.png\", width=500, height=250)"
      ],
      "execution_count": 160,
      "outputs": [
        {
          "output_type": "execute_result",
          "data": {
            "text/html": [
              "<img src=\"https://raw.githubusercontent.com/minsuk-heo/deeplearning/master/img/rgb.png\" width=\"500\" height=\"250\"/>"
            ],
            "text/plain": [
              "<IPython.core.display.Image object>"
            ]
          },
          "metadata": {
            "tags": []
          },
          "execution_count": 0
        }
      ]
    },
    {
      "cell_type": "markdown",
      "metadata": {
        "id": "eBXkHNgT-axk"
      },
      "source": [
        "from above picture, you can double check the color image is just overlapped three color layers.  \n",
        "We call the overlapped layers a **depth**.\n",
        "let's take a look how one filter work on three color layers from below image.  \n",
        "You can find one filter has three sub filters. sub filters will stride and each stide will be summed up (plus bias) to one pixel in a feature map."
      ]
    },
    {
      "cell_type": "code",
      "metadata": {
        "id": "0xYhciYf-axk",
        "outputId": "9d841280-4a14-47b9-9f88-d03d94153b2d",
        "colab": {
          "base_uri": "https://localhost:8080/",
          "height": 0
        }
      },
      "source": [
        "Image(url= \"https://raw.githubusercontent.com/minsuk-heo/deeplearning/master/img/rgb1.png\", width=500, height=250)"
      ],
      "execution_count": 161,
      "outputs": [
        {
          "output_type": "execute_result",
          "data": {
            "text/html": [
              "<img src=\"https://raw.githubusercontent.com/minsuk-heo/deeplearning/master/img/rgb1.png\" width=\"500\" height=\"250\"/>"
            ],
            "text/plain": [
              "<IPython.core.display.Image object>"
            ]
          },
          "metadata": {
            "tags": []
          },
          "execution_count": 0
        }
      ]
    },
    {
      "cell_type": "code",
      "metadata": {
        "id": "y2IUo1Es-axk",
        "outputId": "7fa71d20-dc59-458c-bcf9-c8857f346a6b",
        "colab": {
          "base_uri": "https://localhost:8080/",
          "height": 0
        }
      },
      "source": [
        "Image(url= \"https://raw.githubusercontent.com/minsuk-heo/deeplearning/master/img/rgb2.png\", width=500, height=250)"
      ],
      "execution_count": 162,
      "outputs": [
        {
          "output_type": "execute_result",
          "data": {
            "text/html": [
              "<img src=\"https://raw.githubusercontent.com/minsuk-heo/deeplearning/master/img/rgb2.png\" width=\"500\" height=\"250\"/>"
            ],
            "text/plain": [
              "<IPython.core.display.Image object>"
            ]
          },
          "metadata": {
            "tags": []
          },
          "execution_count": 0
        }
      ]
    },
    {
      "cell_type": "markdown",
      "metadata": {
        "id": "Z_XFlZKz-axk"
      },
      "source": [
        "As you can see from above picture, each filter output is one feature map.  \n",
        "Therefore, if you have 10 filters at first convolutional layer, the next layer's input will have **depth** 10."
      ]
    },
    {
      "cell_type": "markdown",
      "metadata": {
        "id": "lzAvPtJq-axl"
      },
      "source": [
        "## Train\n",
        "Let's resume entire CNN architecture to talk about Training."
      ]
    },
    {
      "cell_type": "code",
      "metadata": {
        "id": "RLP4Qby_-axl",
        "outputId": "7d4449db-a513-4ac7-8a4a-f890794adf9b",
        "colab": {
          "base_uri": "https://localhost:8080/",
          "height": 270
        }
      },
      "source": [
        "Image(url= \"https://raw.githubusercontent.com/minsuk-heo/deeplearning/master/img/cnn_train.png\", width=500, height=250)"
      ],
      "execution_count": 163,
      "outputs": [
        {
          "output_type": "execute_result",
          "data": {
            "text/html": [
              "<img src=\"https://raw.githubusercontent.com/minsuk-heo/deeplearning/master/img/cnn_train.png\" width=\"500\" height=\"250\"/>"
            ],
            "text/plain": [
              "<IPython.core.display.Image object>"
            ]
          },
          "metadata": {
            "tags": []
          },
          "execution_count": 0
        }
      ]
    },
    {
      "cell_type": "markdown",
      "metadata": {
        "id": "yCMSYqls-axl"
      },
      "source": [
        "As you can see from above picture, if input is color image, the depth is 3, that is why you can see three layer at the input.  \n",
        "First Convolution layer has four filters that is why you have four layers at Conv1.  \n",
        "Second Convolution layer has three filters that is why you have three layers at Conv2.\n",
        "Pooling layer has stride size 2, that is why you have (2 x 2) feature maps.  \n",
        "Flatten will have 2 x 2 x 3 = 12 values in an array as an input to fully connected layer.  \n",
        "Theorically, convolution layers identify features.  \n",
        "Fully Connected Layer classify input using all identified features.  \n",
        "CNN is supervised learning, by giving target value, CNN will use back propagation to optimize parameters at convolution layers, fully connected layer."
      ]
    },
    {
      "cell_type": "markdown",
      "metadata": {
        "id": "7YYlIqM4-axl"
      },
      "source": [
        "### Parameter Optimization\n",
        "The purpose of training is to optimize parameters of filter and parameters of fully connected layer(FC).  \n",
        "Initially we give random value for these parameters, but the CNN keep update parameters using backpropagation in order to have meaningful filters an FC.  \n",
        "Yes, initially the CNN even don't know which filter to have (head, tail, diagonal connector), the CNN will automatically know which filter to have during training.  \n",
        "By minimizing the difference between target and output, the CNN will eventually have meaningful filters (head, tail, diagonal connector, round, triangle) and also meaningful classifier with these feature maps.  \n",
        "Parameters (W in the below picture) can be optimized using gradience descent algorithm by minimizing difference between target and output (Loss in the below picture). The local minimum value of Loss is where derivative Loss with respect to W is 0. Therefore everytime we update W, we slightly update W with negative direction of derivative and find local minimum. "
      ]
    },
    {
      "cell_type": "code",
      "metadata": {
        "id": "lN6RcMPT-axm",
        "outputId": "23ac2f66-37a7-4ad7-b092-1768c2c14bf0",
        "colab": {
          "base_uri": "https://localhost:8080/",
          "height": 0
        }
      },
      "source": [
        "Image(url= \"https://raw.githubusercontent.com/minsuk-heo/deeplearning/master/img/sgd.png\", width=300, height=150)"
      ],
      "execution_count": 164,
      "outputs": [
        {
          "output_type": "execute_result",
          "data": {
            "text/html": [
              "<img src=\"https://raw.githubusercontent.com/minsuk-heo/deeplearning/master/img/sgd.png\" width=\"300\" height=\"150\"/>"
            ],
            "text/plain": [
              "<IPython.core.display.Image object>"
            ]
          },
          "metadata": {
            "tags": []
          },
          "execution_count": 0
        }
      ]
    },
    {
      "cell_type": "markdown",
      "metadata": {
        "id": "tx4Die77-axm"
      },
      "source": [
        "## Tensorflow implementation\n",
        "Let's implement CNN using Tensorflow for identify handwritten number in MNIST dataset."
      ]
    },
    {
      "cell_type": "code",
      "metadata": {
        "id": "oXRLOyfF-axm",
        "outputId": "13cfec94-56f9-4a86-9f4e-6d6185f3483d",
        "colab": {
          "base_uri": "https://localhost:8080/",
          "height": 220
        }
      },
      "source": [
        "Image(url= \"https://raw.githubusercontent.com/minsuk-heo/deeplearning/master/img/practice_cnn.png\", width=800, height=200)"
      ],
      "execution_count": 165,
      "outputs": [
        {
          "output_type": "execute_result",
          "data": {
            "text/html": [
              "<img src=\"https://raw.githubusercontent.com/minsuk-heo/deeplearning/master/img/practice_cnn.png\" width=\"800\" height=\"200\"/>"
            ],
            "text/plain": [
              "<IPython.core.display.Image object>"
            ]
          },
          "metadata": {
            "tags": []
          },
          "execution_count": 0
        }
      ]
    },
    {
      "cell_type": "code",
      "metadata": {
        "id": "wuRKRoiJ-axm"
      },
      "source": [
        "import tensorflow as tf"
      ],
      "execution_count": 166,
      "outputs": []
    },
    {
      "cell_type": "markdown",
      "metadata": {
        "id": "7qDaKGJT-axn"
      },
      "source": [
        "### collect data"
      ]
    },
    {
      "cell_type": "code",
      "metadata": {
        "id": "4DJd6WTM-axn"
      },
      "source": [
        "(x_train, y_train), (x_test, y_test) = tf.keras.datasets.mnist.load_data()"
      ],
      "execution_count": 167,
      "outputs": []
    },
    {
      "cell_type": "markdown",
      "metadata": {
        "id": "H4Zzlhz4-axn"
      },
      "source": [
        "train data has **60000** samples  \n",
        "test data has **10000** samples   \n",
        "every data is **28 * 28** pixels  \n",
        "\n",
        "below image shows 28*28 pixel image sample for hand written number '0' from MNIST data.  \n",
        "MNIST is gray scale image [0 to 255] for hand written number."
      ]
    },
    {
      "cell_type": "markdown",
      "metadata": {
        "id": "4JXt1Cqm-axn"
      },
      "source": [
        "![0 from MNIST](https://raw.githubusercontent.com/minsuk-heo/deeplearning/master/img/mnist_sample.png)"
      ]
    },
    {
      "cell_type": "markdown",
      "metadata": {
        "id": "FO0eqIbV-axn"
      },
      "source": [
        "### Split train data into train and validation data\n",
        "Split train data into train data and validation data, in order to check validation accuracy."
      ]
    },
    {
      "cell_type": "code",
      "metadata": {
        "id": "4ZiCdEwM-axo"
      },
      "source": [
        "x_val  = x_train[50000:60000]\n",
        "x_train = x_train[0:50000]\n",
        "y_val  = y_train[50000:60000]\n",
        "y_train = y_train[0:50000]"
      ],
      "execution_count": 168,
      "outputs": []
    },
    {
      "cell_type": "code",
      "metadata": {
        "id": "UyLotEYJ-axo",
        "outputId": "dca7cd05-8e3a-440a-f15a-68dce5a168e7",
        "colab": {
          "base_uri": "https://localhost:8080/"
        }
      },
      "source": [
        "print(\"train data has \" + str(x_train.shape[0]) + \" samples\")\n",
        "print(\"every train data is \" + str(x_train.shape[1]) \n",
        "      + \" * \" + str(x_train.shape[2]) + \" image\")"
      ],
      "execution_count": 169,
      "outputs": [
        {
          "output_type": "stream",
          "text": [
            "train data has 50000 samples\n",
            "every train data is 28 * 28 image\n"
          ],
          "name": "stdout"
        }
      ]
    },
    {
      "cell_type": "code",
      "metadata": {
        "id": "9M8XN9eJ-axo",
        "outputId": "9a0ceec7-4729-4ea6-bc5f-0efcbbf9d44d",
        "colab": {
          "base_uri": "https://localhost:8080/"
        }
      },
      "source": [
        "print(\"validation data has \" + str(x_val.shape[0]) + \" samples\")\n",
        "print(\"every train data is \" + str(x_val.shape[1]) \n",
        "      + \" * \" + str(x_train.shape[2]) + \" image\")"
      ],
      "execution_count": 170,
      "outputs": [
        {
          "output_type": "stream",
          "text": [
            "validation data has 10000 samples\n",
            "every train data is 28 * 28 image\n"
          ],
          "name": "stdout"
        }
      ]
    },
    {
      "cell_type": "markdown",
      "metadata": {
        "id": "QuoppTDv-axo"
      },
      "source": [
        "28 * 28 pixels has gray scale value from **0** to **255**"
      ]
    },
    {
      "cell_type": "code",
      "metadata": {
        "id": "1JiQ-oFK-axo",
        "outputId": "68480aef-beaa-4b43-f6d4-2181fcead81b",
        "colab": {
          "base_uri": "https://localhost:8080/"
        }
      },
      "source": [
        "# sample to show gray scale values\n",
        "print(x_train[0][8])"
      ],
      "execution_count": 171,
      "outputs": [
        {
          "output_type": "stream",
          "text": [
            "[  0   0   0   0   0   0   0  18 219 253 253 253 253 253 198 182 247 241\n",
            "   0   0   0   0   0   0   0   0   0   0]\n"
          ],
          "name": "stdout"
        }
      ]
    },
    {
      "cell_type": "markdown",
      "metadata": {
        "id": "sFOkM7EU-axp"
      },
      "source": [
        "each train data has its label **0** to **9**"
      ]
    },
    {
      "cell_type": "code",
      "metadata": {
        "id": "iN9ibCOP-axp",
        "outputId": "20f30316-65a5-4178-8843-bb07c7c7e526",
        "colab": {
          "base_uri": "https://localhost:8080/"
        }
      },
      "source": [
        "# sample to show labels for first train data to 10th train data\n",
        "print(y_train[0:9])"
      ],
      "execution_count": 172,
      "outputs": [
        {
          "output_type": "stream",
          "text": [
            "[5 0 4 1 9 2 1 3 1]\n"
          ],
          "name": "stdout"
        }
      ]
    },
    {
      "cell_type": "markdown",
      "metadata": {
        "id": "qiCU63A7-axp"
      },
      "source": [
        "test data has **10000** samples  \n",
        "every test data is **28 * 28** image  "
      ]
    },
    {
      "cell_type": "code",
      "metadata": {
        "id": "pJkdTuWg-axp",
        "outputId": "be08ac45-ec0d-4c21-b75d-d9bfe07ccb79",
        "colab": {
          "base_uri": "https://localhost:8080/"
        }
      },
      "source": [
        "print(\"test data has \" + str(x_test.shape[0]) + \" samples\")\n",
        "print(\"every test data is \" + str(x_test.shape[1]) \n",
        "      + \" * \" + str(x_test.shape[2]) + \" image\")"
      ],
      "execution_count": 173,
      "outputs": [
        {
          "output_type": "stream",
          "text": [
            "test data has 10000 samples\n",
            "every test data is 28 * 28 image\n"
          ],
          "name": "stdout"
        }
      ]
    },
    {
      "cell_type": "markdown",
      "metadata": {
        "id": "lKi80nd6-axp"
      },
      "source": [
        "### Reshape\n",
        "We reshape x_train to be fitted in tf model."
      ]
    },
    {
      "cell_type": "code",
      "metadata": {
        "id": "YJOsLOrR-axp",
        "outputId": "177c902d-ecec-4db5-84bb-46b407d8f77c",
        "colab": {
          "base_uri": "https://localhost:8080/"
        }
      },
      "source": [
        "import numpy as np\n",
        "x_train = np.reshape(x_train, (50000,28,28,1))\n",
        "x_val = np.reshape(x_val, (10000,28,28,1))\n",
        "x_test = np.reshape(x_test, (10000,28,28,1))\n",
        "\n",
        "print(x_train.shape)\n",
        "print(x_test.shape)"
      ],
      "execution_count": 174,
      "outputs": [
        {
          "output_type": "stream",
          "text": [
            "(50000, 28, 28, 1)\n",
            "(10000, 28, 28, 1)\n"
          ],
          "name": "stdout"
        }
      ]
    },
    {
      "cell_type": "markdown",
      "metadata": {
        "id": "ra06Loai-axq"
      },
      "source": [
        "### Normalize data\n",
        "normalization usually helps faster learning speed, better performance  \n",
        "by reducing variance and giving same range to all input features.  \n",
        "since MNIST data set all input has 0 to 255, normalization only helps reducing variances.  \n",
        "it turned out normalization is better than standardization for MNIST data with my MLP architeture,    \n",
        "I believe this is because relu handles 0 differently on both feed forward and back propagation.  \n",
        "handling 0 differently is important for MNIST, since 1-255 means there is some hand written,  \n",
        "while 0 means no hand written on that pixel."
      ]
    },
    {
      "cell_type": "code",
      "metadata": {
        "id": "qrt1WwW8-axq"
      },
      "source": [
        "x_train = x_train.astype('float32')\n",
        "x_val = x_val.astype('float32')\n",
        "x_test = x_test.astype('float32')\n",
        "\n",
        "gray_scale = 255\n",
        "x_train /= gray_scale\n",
        "x_val /= gray_scale\n",
        "x_test /= gray_scale"
      ],
      "execution_count": 175,
      "outputs": []
    },
    {
      "cell_type": "markdown",
      "metadata": {
        "id": "0ZB8ghQf-axq"
      },
      "source": [
        "### label to one hot encoding value\n",
        "In order to measure difference between softmax output and target,  \n",
        "target value need to be one hot encoding."
      ]
    },
    {
      "cell_type": "code",
      "metadata": {
        "id": "zenJSUhy-axq"
      },
      "source": [
        "num_classes = 10\n",
        "y_train = tf.keras.utils.to_categorical(y_train, num_classes)\n",
        "y_val = tf.keras.utils.to_categorical(y_val, num_classes)\n",
        "y_test = tf.keras.utils.to_categorical(y_test, num_classes)"
      ],
      "execution_count": 176,
      "outputs": []
    },
    {
      "cell_type": "markdown",
      "metadata": {
        "id": "NRwPqhU2-axq"
      },
      "source": [
        "### Implement CNN tensorflow graph"
      ]
    },
    {
      "cell_type": "code",
      "metadata": {
        "id": "HhAKjDyN-axr",
        "outputId": "102a3b65-81c3-48f5-cf21-d20c7b617d5e",
        "colab": {
          "base_uri": "https://localhost:8080/",
          "height": 0
        }
      },
      "source": [
        "Image(url= \"https://raw.githubusercontent.com/minsuk-heo/deeplearning/master/img/practice_cnn.png\", width=800, height=200)"
      ],
      "execution_count": 177,
      "outputs": [
        {
          "output_type": "execute_result",
          "data": {
            "text/html": [
              "<img src=\"https://raw.githubusercontent.com/minsuk-heo/deeplearning/master/img/practice_cnn.png\" width=\"800\" height=\"200\"/>"
            ],
            "text/plain": [
              "<IPython.core.display.Image object>"
            ]
          },
          "metadata": {
            "tags": []
          },
          "execution_count": 0
        }
      ]
    },
    {
      "cell_type": "markdown",
      "metadata": {
        "id": "HhNNWolw-axr"
      },
      "source": [
        "We use image itself (28 x 28) as input of CNN.\n",
        "Target will be number between 0 to 9."
      ]
    },
    {
      "cell_type": "code",
      "metadata": {
        "id": "aVRN7tqV-axr",
        "outputId": "171b0e50-8973-4e6d-fc5d-86f4e5d83dc5",
        "colab": {
          "base_uri": "https://localhost:8080/",
          "height": 0
        }
      },
      "source": [
        "x = tf.placeholder(tf.float32, shape=[None, 28, 28, 1])\n",
        "y_ = tf.placeholder(tf.float32, shape=[None, 10])"
      ],
      "execution_count": 178,
      "outputs": [
        {
          "output_type": "error",
          "ename": "AttributeError",
          "evalue": "ignored",
          "traceback": [
            "\u001b[0;31m---------------------------------------------------------------------------\u001b[0m",
            "\u001b[0;31mAttributeError\u001b[0m                            Traceback (most recent call last)",
            "\u001b[0;32m<ipython-input-178-203c52db0f48>\u001b[0m in \u001b[0;36m<module>\u001b[0;34m()\u001b[0m\n\u001b[0;32m----> 1\u001b[0;31m \u001b[0mx\u001b[0m \u001b[0;34m=\u001b[0m \u001b[0mtf\u001b[0m\u001b[0;34m.\u001b[0m\u001b[0mplaceholder\u001b[0m\u001b[0;34m(\u001b[0m\u001b[0mtf\u001b[0m\u001b[0;34m.\u001b[0m\u001b[0mfloat32\u001b[0m\u001b[0;34m,\u001b[0m \u001b[0mshape\u001b[0m\u001b[0;34m=\u001b[0m\u001b[0;34m[\u001b[0m\u001b[0;32mNone\u001b[0m\u001b[0;34m,\u001b[0m \u001b[0;36m28\u001b[0m\u001b[0;34m,\u001b[0m \u001b[0;36m28\u001b[0m\u001b[0;34m,\u001b[0m \u001b[0;36m1\u001b[0m\u001b[0;34m]\u001b[0m\u001b[0;34m)\u001b[0m\u001b[0;34m\u001b[0m\u001b[0;34m\u001b[0m\u001b[0m\n\u001b[0m\u001b[1;32m      2\u001b[0m \u001b[0my_\u001b[0m \u001b[0;34m=\u001b[0m \u001b[0mtf\u001b[0m\u001b[0;34m.\u001b[0m\u001b[0mplaceholder\u001b[0m\u001b[0;34m(\u001b[0m\u001b[0mtf\u001b[0m\u001b[0;34m.\u001b[0m\u001b[0mfloat32\u001b[0m\u001b[0;34m,\u001b[0m \u001b[0mshape\u001b[0m\u001b[0;34m=\u001b[0m\u001b[0;34m[\u001b[0m\u001b[0;32mNone\u001b[0m\u001b[0;34m,\u001b[0m \u001b[0;36m10\u001b[0m\u001b[0;34m]\u001b[0m\u001b[0;34m)\u001b[0m\u001b[0;34m\u001b[0m\u001b[0;34m\u001b[0m\u001b[0m\n",
            "\u001b[0;31mAttributeError\u001b[0m: module 'tensorflow' has no attribute 'placeholder'"
          ]
        }
      ]
    },
    {
      "cell_type": "markdown",
      "metadata": {
        "id": "vCnLSZkB-axr"
      },
      "source": [
        "We initialize parameters near 0.  \n",
        "The point for using **truncated normal** is to overcome saturation of sigmoid in softmax (where if the value is too big/small, the neuron stops learning).  \n",
        "tf.truncated_normal() selects random numbers from a normal distribution whose mean is close to 0 and values are close to 0 Ex. -0.1 to 0.1.  \n",
        "It's called truncated because your cutting off the tails from a normal distribution.  \n",
        "**tf.random_normal()** selects random numbers from a normal distribution whose mean is close to 0; however the values can be a bit further apart. Ex. -2 to 2  "
      ]
    },
    {
      "cell_type": "code",
      "metadata": {
        "id": "jmwuKZzc-axr"
      },
      "source": [
        "def weight_variable(shape):\n",
        "  initial = tf.truncated_normal(shape, stddev=0.1)\n",
        "  return tf.Variable(initial)\n",
        "\n",
        "def bias_variable(shape):\n",
        "  initial = tf.constant(0.1, shape=shape)\n",
        "  return tf.Variable(initial)"
      ],
      "execution_count": null,
      "outputs": []
    },
    {
      "cell_type": "markdown",
      "metadata": {
        "id": "loKRj4sU-axs"
      },
      "source": [
        "**Same padding** means the size of output feature-maps are the same as the input feature-maps.  \n",
        "For example, our MNIST has (28x28) shape, so the output will also (28,28) shape."
      ]
    },
    {
      "cell_type": "code",
      "metadata": {
        "id": "t-AqWDDO-axs"
      },
      "source": [
        "def conv2d(x, W):\n",
        "  return tf.nn.conv2d(x, W, strides=[1, 1, 1, 1], padding='SAME')\n",
        "\n",
        "def max_pool_2x2(x):\n",
        "  return tf.nn.max_pool(x, ksize=[1, 2, 2, 1],\n",
        "                        strides=[1, 2, 2, 1], padding='SAME')"
      ],
      "execution_count": null,
      "outputs": []
    },
    {
      "cell_type": "markdown",
      "metadata": {
        "id": "13RPOS2I-axs"
      },
      "source": [
        "First Convolutional Layer has 16 filters with size 5 by 5.  "
      ]
    },
    {
      "cell_type": "code",
      "metadata": {
        "id": "whf6IQh_-axs"
      },
      "source": [
        "W_conv1 = weight_variable([5, 5, 1, 16])\n",
        "b_conv1 = bias_variable([16])"
      ],
      "execution_count": null,
      "outputs": []
    },
    {
      "cell_type": "markdown",
      "metadata": {
        "id": "VTe56fpZ-axv"
      },
      "source": [
        "We use Relu activation funtion. Activation function brings non linearity in the model."
      ]
    },
    {
      "cell_type": "code",
      "metadata": {
        "id": "QB_0Crww-axv"
      },
      "source": [
        "h_conv1 = tf.nn.relu(conv2d(x, W_conv1) + b_conv1)"
      ],
      "execution_count": null,
      "outputs": []
    },
    {
      "cell_type": "markdown",
      "metadata": {
        "id": "JD2-f89u-axw"
      },
      "source": [
        "After Convolutional Layer, we apply Pooling layer to reduce activation map size.  \n",
        "Pooling layer will reduce parameters and control overfitting."
      ]
    },
    {
      "cell_type": "code",
      "metadata": {
        "id": "rAnbnabd-axw"
      },
      "source": [
        "h_pool1 = max_pool_2x2(h_conv1)"
      ],
      "execution_count": null,
      "outputs": []
    },
    {
      "cell_type": "markdown",
      "metadata": {
        "id": "crJBRnYm-axw"
      },
      "source": [
        "After Max Pooling, now we have (14,14) input shape.  \n",
        "Here we have second Convolutional layer."
      ]
    },
    {
      "cell_type": "code",
      "metadata": {
        "id": "pmF2oY1Z-axw"
      },
      "source": [
        "W_conv2 = weight_variable([5, 5, 16, 32])\n",
        "b_conv2 = bias_variable([32])\n",
        "\n",
        "h_conv2 = tf.nn.relu(conv2d(h_pool1, W_conv2) + b_conv2)\n",
        "h_pool2 = max_pool_2x2(h_conv2)"
      ],
      "execution_count": null,
      "outputs": []
    },
    {
      "cell_type": "markdown",
      "metadata": {
        "id": "WKw35H9D-axx"
      },
      "source": [
        "After Max Pooling, now we have (7,7) input shape.\n",
        "#### FC (Fully Connected Layer)\n",
        "here is FC where we use activation maps from CONV as features for digit classification.  \n",
        "You can find, we flatten the activation map pixels to one array in order to input to FC."
      ]
    },
    {
      "cell_type": "code",
      "metadata": {
        "id": "tdYOf-rl-axx"
      },
      "source": [
        "W_fc1 = weight_variable([7 * 7 * 32, 128])\n",
        "b_fc1 = bias_variable([128])\n",
        "\n",
        "h_pool2_flat = tf.reshape(h_pool2, [-1, 7*7*32])\n",
        "h_fc1 = tf.nn.relu(tf.matmul(h_pool2_flat, W_fc1) + b_fc1)"
      ],
      "execution_count": null,
      "outputs": []
    },
    {
      "cell_type": "markdown",
      "metadata": {
        "id": "m6aFy7X5-axx"
      },
      "source": [
        "FC has two hidden layers. first hidden layer has 128 nodes, and second hidden layer has 10 nodes in order to match with our target range 0 to 9."
      ]
    },
    {
      "cell_type": "code",
      "metadata": {
        "id": "Bm3SlQ5w-axy"
      },
      "source": [
        "W_fc2 = weight_variable([128, 10])\n",
        "b_fc2 = bias_variable([10])\n",
        "\n",
        "y_conv = tf.matmul(h_fc1, W_fc2) + b_fc2"
      ],
      "execution_count": null,
      "outputs": []
    },
    {
      "cell_type": "markdown",
      "metadata": {
        "id": "Y-2f2ObU-axy"
      },
      "source": [
        "We will use cross entropy as our loss function."
      ]
    },
    {
      "cell_type": "code",
      "metadata": {
        "id": "4FWJcsIE-axy"
      },
      "source": [
        "cross_entropy = tf.reduce_mean(\n",
        "    tf.nn.softmax_cross_entropy_with_logits_v2(labels=y_, logits=y_conv))"
      ],
      "execution_count": null,
      "outputs": []
    },
    {
      "cell_type": "markdown",
      "metadata": {
        "id": "tKi9llIF-axy"
      },
      "source": [
        "We will use Adam Optimizer as our parameters optimizer."
      ]
    },
    {
      "cell_type": "code",
      "metadata": {
        "id": "l25DbG32-axz"
      },
      "source": [
        "train_step = tf.train.AdamOptimizer(0.001).minimize(cross_entropy)"
      ],
      "execution_count": null,
      "outputs": []
    },
    {
      "cell_type": "markdown",
      "metadata": {
        "id": "wou49HAJ-axz"
      },
      "source": [
        "Accuracy will be from below code block."
      ]
    },
    {
      "cell_type": "code",
      "metadata": {
        "id": "lZQ-SOpb-axz"
      },
      "source": [
        "correct_prediction = tf.equal(tf.argmax(y_conv,1), tf.argmax(y_,1))\n",
        "accuracy = tf.reduce_mean(tf.cast(correct_prediction, tf.float32))"
      ],
      "execution_count": null,
      "outputs": []
    },
    {
      "cell_type": "markdown",
      "metadata": {
        "id": "yr6gYSMc-axz"
      },
      "source": [
        "#### Train and Test\n",
        "Here we go.  \n",
        "We will perform 3 epoches.  \n",
        "Using Mini Batch, we will optimize parameters everytime we pass 500 train data to the model."
      ]
    },
    {
      "cell_type": "code",
      "metadata": {
        "id": "09GFljdl-ax0"
      },
      "source": [
        "# initialize\n",
        "init = tf.global_variables_initializer()\n",
        "\n",
        "# train hyperparameters\n",
        "epoch_cnt = 3\n",
        "batch_size = 500\n",
        "iteration = len(x_train) // batch_size\n",
        "\n",
        "# Start training\n",
        "with tf.Session() as sess:\n",
        "    tf.set_random_seed(777)\n",
        "    # Run the initializer\n",
        "    sess.run(init)\n",
        "    for epoch in range(epoch_cnt):\n",
        "        avg_loss = 0.\n",
        "        start = 0; end = batch_size\n",
        "        \n",
        "        for i in range(iteration):\n",
        "            if i%10 == 0:\n",
        "                train_accuracy = accuracy.eval(feed_dict={x:x_train[start: end], y_: y_train[start: end]})\n",
        "                print(\"step \"+ str(i) + \": training accuracy: \"+str(train_accuracy))\n",
        "            train_step.run(feed_dict={x:x_train[start: end], y_: y_train[start: end]})\n",
        "            start += batch_size; end += batch_size    \n",
        "        \n",
        "        # Validate model\n",
        "        val_accuracy = accuracy.eval(feed_dict={x:x_val, y_: y_val})\n",
        "        print(\"validation accuracy: \"+str(val_accuracy))\n",
        "        \n",
        "    test_accuracy = accuracy.eval(feed_dict={x:x_test, y_: y_test}) \n",
        "    print(\"test accuracy: \"+str(test_accuracy))"
      ],
      "execution_count": null,
      "outputs": []
    },
    {
      "cell_type": "markdown",
      "metadata": {
        "id": "mheLFhvQ-ax0"
      },
      "source": [
        "You got test accuracy **97.4%** with even just **3** epoches.\n",
        "I wish you enjoyed learning CNN. Thanks!"
      ]
    },
    {
      "cell_type": "code",
      "metadata": {
        "id": "_UouqRbs-ax0"
      },
      "source": [
        ""
      ],
      "execution_count": null,
      "outputs": []
    }
  ]
}